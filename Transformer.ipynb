{
  "cells": [
    {
      "cell_type": "code",
      "execution_count": 1,
      "metadata": {
        "id": "riEQ-ogCT5eg"
      },
      "outputs": [],
      "source": [
        "import math\n",
        "import numpy as np\n",
        "import pandas as pd\n",
        "from sklearn.preprocessing import MinMaxScaler \n",
        "import matplotlib.pyplot as plt\n",
        "import tensorflow as tf\n",
        "from tensorflow import keras\n",
        "from tensorflow.keras import layers"
      ]
    },
    {
      "cell_type": "markdown",
      "metadata": {
        "id": "xWOrHt5iT5ek"
      },
      "source": [
        "https://www.kaggle.com/code/fredblair/transformers-for-stocks\n",
        "\n",
        "https://keras.io/examples/timeseries/timeseries_classification_transformer/"
      ]
    },
    {
      "cell_type": "code",
      "execution_count": 4,
      "metadata": {
        "id": "tKk6uHuAT5el"
      },
      "outputs": [],
      "source": [
        "stock_data=pd.read_csv('aapl_data.csv')"
      ]
    },
    {
      "cell_type": "code",
      "execution_count": 5,
      "metadata": {
        "colab": {
          "base_uri": "https://localhost:8080/",
          "height": 206
        },
        "id": "YmBc1nIfT5em",
        "outputId": "568531cb-3c1c-4764-9474-899d881c30bd"
      },
      "outputs": [
        {
          "data": {
            "text/html": [
              "\n",
              "  <div id=\"df-b1247099-7b24-4c25-afd8-62e7b61927c6\">\n",
              "    <div class=\"colab-df-container\">\n",
              "      <div>\n",
              "<style scoped>\n",
              "    .dataframe tbody tr th:only-of-type {\n",
              "        vertical-align: middle;\n",
              "    }\n",
              "\n",
              "    .dataframe tbody tr th {\n",
              "        vertical-align: top;\n",
              "    }\n",
              "\n",
              "    .dataframe thead th {\n",
              "        text-align: right;\n",
              "    }\n",
              "</style>\n",
              "<table border=\"1\" class=\"dataframe\">\n",
              "  <thead>\n",
              "    <tr style=\"text-align: right;\">\n",
              "      <th></th>\n",
              "      <th>date</th>\n",
              "      <th>open</th>\n",
              "      <th>high</th>\n",
              "      <th>low</th>\n",
              "      <th>close</th>\n",
              "      <th>volume</th>\n",
              "    </tr>\n",
              "  </thead>\n",
              "  <tbody>\n",
              "    <tr>\n",
              "      <th>0</th>\n",
              "      <td>3/1/2013</td>\n",
              "      <td>15.643</td>\n",
              "      <td>15.649</td>\n",
              "      <td>15.356</td>\n",
              "      <td>15.374</td>\n",
              "      <td>552447168</td>\n",
              "    </tr>\n",
              "    <tr>\n",
              "      <th>1</th>\n",
              "      <td>3/4/2013</td>\n",
              "      <td>15.279</td>\n",
              "      <td>15.293</td>\n",
              "      <td>14.964</td>\n",
              "      <td>15.002</td>\n",
              "      <td>582737596</td>\n",
              "    </tr>\n",
              "    <tr>\n",
              "      <th>2</th>\n",
              "      <td>3/5/2013</td>\n",
              "      <td>15.053</td>\n",
              "      <td>15.543</td>\n",
              "      <td>15.027</td>\n",
              "      <td>15.398</td>\n",
              "      <td>638428168</td>\n",
              "    </tr>\n",
              "    <tr>\n",
              "      <th>3</th>\n",
              "      <td>3/6/2013</td>\n",
              "      <td>15.518</td>\n",
              "      <td>15.545</td>\n",
              "      <td>15.158</td>\n",
              "      <td>15.202</td>\n",
              "      <td>460249076</td>\n",
              "    </tr>\n",
              "    <tr>\n",
              "      <th>4</th>\n",
              "      <td>3/7/2013</td>\n",
              "      <td>15.161</td>\n",
              "      <td>15.429</td>\n",
              "      <td>15.038</td>\n",
              "      <td>15.378</td>\n",
              "      <td>468471304</td>\n",
              "    </tr>\n",
              "  </tbody>\n",
              "</table>\n",
              "</div>\n",
              "      <button class=\"colab-df-convert\" onclick=\"convertToInteractive('df-b1247099-7b24-4c25-afd8-62e7b61927c6')\"\n",
              "              title=\"Convert this dataframe to an interactive table.\"\n",
              "              style=\"display:none;\">\n",
              "        \n",
              "  <svg xmlns=\"http://www.w3.org/2000/svg\" height=\"24px\"viewBox=\"0 0 24 24\"\n",
              "       width=\"24px\">\n",
              "    <path d=\"M0 0h24v24H0V0z\" fill=\"none\"/>\n",
              "    <path d=\"M18.56 5.44l.94 2.06.94-2.06 2.06-.94-2.06-.94-.94-2.06-.94 2.06-2.06.94zm-11 1L8.5 8.5l.94-2.06 2.06-.94-2.06-.94L8.5 2.5l-.94 2.06-2.06.94zm10 10l.94 2.06.94-2.06 2.06-.94-2.06-.94-.94-2.06-.94 2.06-2.06.94z\"/><path d=\"M17.41 7.96l-1.37-1.37c-.4-.4-.92-.59-1.43-.59-.52 0-1.04.2-1.43.59L10.3 9.45l-7.72 7.72c-.78.78-.78 2.05 0 2.83L4 21.41c.39.39.9.59 1.41.59.51 0 1.02-.2 1.41-.59l7.78-7.78 2.81-2.81c.8-.78.8-2.07 0-2.86zM5.41 20L4 18.59l7.72-7.72 1.47 1.35L5.41 20z\"/>\n",
              "  </svg>\n",
              "      </button>\n",
              "      \n",
              "  <style>\n",
              "    .colab-df-container {\n",
              "      display:flex;\n",
              "      flex-wrap:wrap;\n",
              "      gap: 12px;\n",
              "    }\n",
              "\n",
              "    .colab-df-convert {\n",
              "      background-color: #E8F0FE;\n",
              "      border: none;\n",
              "      border-radius: 50%;\n",
              "      cursor: pointer;\n",
              "      display: none;\n",
              "      fill: #1967D2;\n",
              "      height: 32px;\n",
              "      padding: 0 0 0 0;\n",
              "      width: 32px;\n",
              "    }\n",
              "\n",
              "    .colab-df-convert:hover {\n",
              "      background-color: #E2EBFA;\n",
              "      box-shadow: 0px 1px 2px rgba(60, 64, 67, 0.3), 0px 1px 3px 1px rgba(60, 64, 67, 0.15);\n",
              "      fill: #174EA6;\n",
              "    }\n",
              "\n",
              "    [theme=dark] .colab-df-convert {\n",
              "      background-color: #3B4455;\n",
              "      fill: #D2E3FC;\n",
              "    }\n",
              "\n",
              "    [theme=dark] .colab-df-convert:hover {\n",
              "      background-color: #434B5C;\n",
              "      box-shadow: 0px 1px 3px 1px rgba(0, 0, 0, 0.15);\n",
              "      filter: drop-shadow(0px 1px 2px rgba(0, 0, 0, 0.3));\n",
              "      fill: #FFFFFF;\n",
              "    }\n",
              "  </style>\n",
              "\n",
              "      <script>\n",
              "        const buttonEl =\n",
              "          document.querySelector('#df-b1247099-7b24-4c25-afd8-62e7b61927c6 button.colab-df-convert');\n",
              "        buttonEl.style.display =\n",
              "          google.colab.kernel.accessAllowed ? 'block' : 'none';\n",
              "\n",
              "        async function convertToInteractive(key) {\n",
              "          const element = document.querySelector('#df-b1247099-7b24-4c25-afd8-62e7b61927c6');\n",
              "          const dataTable =\n",
              "            await google.colab.kernel.invokeFunction('convertToInteractive',\n",
              "                                                     [key], {});\n",
              "          if (!dataTable) return;\n",
              "\n",
              "          const docLinkHtml = 'Like what you see? Visit the ' +\n",
              "            '<a target=\"_blank\" href=https://colab.research.google.com/notebooks/data_table.ipynb>data table notebook</a>'\n",
              "            + ' to learn more about interactive tables.';\n",
              "          element.innerHTML = '';\n",
              "          dataTable['output_type'] = 'display_data';\n",
              "          await google.colab.output.renderOutput(dataTable, element);\n",
              "          const docLink = document.createElement('div');\n",
              "          docLink.innerHTML = docLinkHtml;\n",
              "          element.appendChild(docLink);\n",
              "        }\n",
              "      </script>\n",
              "    </div>\n",
              "  </div>\n",
              "  "
            ],
            "text/plain": [
              "       date    open    high     low   close     volume\n",
              "0  3/1/2013  15.643  15.649  15.356  15.374  552447168\n",
              "1  3/4/2013  15.279  15.293  14.964  15.002  582737596\n",
              "2  3/5/2013  15.053  15.543  15.027  15.398  638428168\n",
              "3  3/6/2013  15.518  15.545  15.158  15.202  460249076\n",
              "4  3/7/2013  15.161  15.429  15.038  15.378  468471304"
            ]
          },
          "execution_count": 5,
          "metadata": {},
          "output_type": "execute_result"
        }
      ],
      "source": [
        "# Data explore\n",
        "\n",
        "stock_data.head()"
      ]
    },
    {
      "cell_type": "code",
      "execution_count": 6,
      "metadata": {
        "colab": {
          "base_uri": "https://localhost:8080/",
          "height": 531
        },
        "id": "2zWWuStCT5en",
        "outputId": "19378d90-e431-496f-eac4-c701bc59b321"
      },
      "outputs": [
        {
          "data": {
            "text/plain": [
              "Text(0, 0.5, 'Prices ($)')"
            ]
          },
          "execution_count": 6,
          "metadata": {},
          "output_type": "execute_result"
        },
        {
          "data": {
            "image/png": "[encoded data removed]",
            "text/plain": [
              "<Figure size 1080x576 with 1 Axes>"
            ]
          },
          "metadata": {
            "needs_background": "light"
          },
          "output_type": "display_data"
        }
      ],
      "source": [
        "plt.figure(figsize=(15, 8))\n",
        "plt.title('Stock Prices History')\n",
        "plt.plot(stock_data['close'])\n",
        "plt.xlabel('Date')\n",
        "plt.ylabel('Prices ($)')"
      ]
    },
    {
      "cell_type": "markdown",
      "metadata": {
        "id": "uutp4Ll0T5en"
      },
      "source": [
        "# Data Processing"
      ]
    },
    {
      "cell_type": "code",
      "execution_count": 7,
      "metadata": {
        "id": "_hKm6ir-T5eo"
      },
      "outputs": [],
      "source": [
        "close_prices = stock_data['close']\n",
        "values = close_prices.values\n",
        "training_data_len = math.ceil(len(values)* 0.8)\n",
        "#Scaling the training set\n",
        "scaler = MinMaxScaler(feature_range=(0,1))\n",
        "scaled_data = scaler.fit_transform(values.reshape(-1,1))\n",
        "train_data = scaled_data[0: training_data_len, :]\n",
        "\n",
        "\n",
        "\n",
        "x_train = []\n",
        "y_train = []\n",
        "\n",
        "timestep=10\n",
        "\n",
        "for i in range(timestep, len(train_data)):\n",
        "    x_train.append(train_data[i-timestep:i, 0])\n",
        "    y_train.append(train_data[i, 0])\n",
        "    \n",
        "x_train, y_train = np.array(x_train), np.array(y_train)\n",
        "x_train = np.reshape(x_train, (x_train.shape[0], x_train.shape[1], 1))"
      ]
    },
    {
      "cell_type": "code",
      "execution_count": 8,
      "metadata": {
        "colab": {
          "base_uri": "https://localhost:8080/"
        },
        "id": "BdQvzRTlT5eo",
        "outputId": "597f581f-30f6-492a-8d13-e1361e120214"
      },
      "outputs": [
        {
          "data": {
            "text/plain": [
              "(array([[0.00848496],\n",
              "        [0.0062715 ],\n",
              "        [0.00862777],\n",
              "        [0.00746153],\n",
              "        [0.00850876],\n",
              "        [0.00875272],\n",
              "        [0.01005581],\n",
              "        [0.0080506 ],\n",
              "        [0.00803275],\n",
              "        [0.00891338]]), 0.011287501041282386)"
            ]
          },
          "execution_count": 8,
          "metadata": {},
          "output_type": "execute_result"
        }
      ],
      "source": [
        "x_train[0],y_train[0]"
      ]
    },
    {
      "cell_type": "code",
      "execution_count": 9,
      "metadata": {
        "colab": {
          "base_uri": "https://localhost:8080/"
        },
        "id": "x7CFsbSrT5ep",
        "outputId": "998bc19c-8f0e-4bbe-8b55-dc9d8c3bf337"
      },
      "outputs": [
        {
          "data": {
            "text/plain": [
              "((2004, 10, 1), (2004,))"
            ]
          },
          "execution_count": 9,
          "metadata": {},
          "output_type": "execute_result"
        }
      ],
      "source": [
        "x_train.shape,y_train.shape"
      ]
    },
    {
      "cell_type": "code",
      "execution_count": 18,
      "metadata": {
        "id": "3bavK53RWXvv"
      },
      "outputs": [],
      "source": [
        "test_data = scaled_data[training_data_len-timestep:, : ]\n",
        "x_test = []\n",
        "y_test = values[training_data_len:]\n",
        "\n",
        "for i in range(timestep, len(test_data)):\n",
        "  x_test.append(test_data[i-timestep:i, 0])\n",
        "\n",
        "x_test = np.array(x_test)\n",
        "x_test = np.reshape(x_test, (x_test.shape[0], x_test.shape[1], 1))"
      ]
    },
    {
      "cell_type": "code",
      "execution_count": 10,
      "metadata": {
        "id": "GZsj2r_fT5ep"
      },
      "outputs": [],
      "source": [
        "def transformer_encoder(inputs, head_size, num_heads, ff_dim, dropout=0):\n",
        "    \n",
        "    # Normalization and Attention\n",
        "    # \"EMBEDDING LAYER\"\n",
        "    x = layers.LayerNormalization(epsilon=1e-6)(inputs)\n",
        "    \n",
        "    # \"ATTENTION LAYER\"\n",
        "    x = layers.MultiHeadAttention(\n",
        "        key_dim=head_size, num_heads=num_heads, dropout=dropout\n",
        "    )(x, x)\n",
        "    x = layers.Dropout(dropout)(x)\n",
        "    res = x + inputs\n",
        "    \n",
        "    # FEED FORWARD Part - you can stick anything here or just delete the whole section - it will still work. \n",
        "    x = layers.LayerNormalization(epsilon=1e-6)(res)\n",
        "    x = layers.Conv1D(filters=ff_dim, kernel_size=1, activation = \"relu\")(x)\n",
        "    x = layers.Dropout(dropout)(x)\n",
        "    x = layers.Conv1D(filters=inputs.shape[-1], kernel_size=1)(x)\n",
        "    return x + res"
      ]
    },
    {
      "cell_type": "code",
      "execution_count": 11,
      "metadata": {
        "id": "fdYc5lr3T5eq"
      },
      "outputs": [],
      "source": [
        "def build_model(\n",
        "    input_shape,\n",
        "    head_size,\n",
        "    num_heads,\n",
        "    ff_dim,\n",
        "    num_transformer_blocks,\n",
        "    mlp_units,\n",
        "    dropout=0,\n",
        "    mlp_dropout=0,\n",
        "):\n",
        "    inputs = keras.Input(shape=input_shape)\n",
        "    x = inputs\n",
        "    \n",
        "    for _ in range(num_transformer_blocks):  # This is what stacks our transformer blocks\n",
        "        x = transformer_encoder(x, head_size, num_heads, ff_dim, dropout)\n",
        "\n",
        "    x = layers.GlobalAveragePooling1D(data_format=\"channels_first\")(x)\n",
        "    for dim in mlp_units:\n",
        "        x = layers.Dense(dim, activation=\"elu\")(x)\n",
        "        x = layers.Dropout(mlp_dropout)(x)\n",
        "    outputs = layers.Dense(1, activation=\"linear\")(x) #this is a pass-through\n",
        "    return keras.Model(inputs, outputs)\n"
      ]
    },
    {
      "cell_type": "code",
      "execution_count": 12,
      "metadata": {
        "id": "IayRrlCfVBpO"
      },
      "outputs": [],
      "source": [
        "def lr_scheduler(epoch, lr, warmup_epochs=30, decay_epochs=100, initial_lr=1e-6, base_lr=1e-3, min_lr=5e-5):\n",
        "    if epoch <= warmup_epochs:\n",
        "        pct = epoch / warmup_epochs\n",
        "        return ((base_lr - initial_lr) * pct) + initial_lr\n",
        "\n",
        "    if epoch > warmup_epochs and epoch < warmup_epochs+decay_epochs:\n",
        "        pct = 1 - ((epoch - warmup_epochs) / decay_epochs)\n",
        "        return ((base_lr - min_lr) * pct) + min_lr\n",
        "\n",
        "    return min_lr\n",
        "\n",
        "# This learning rate scheduler is also from Mr. Theodoros Ntakouris' articla at https://towardsdatascience.com/the-time-series-transformer-2a521a0efad3"
      ]
    },
    {
      "cell_type": "code",
      "execution_count": 13,
      "metadata": {
        "id": "iqRHmidAT5eq"
      },
      "outputs": [],
      "source": [
        "callbacks = [\n",
        "            keras.callbacks.EarlyStopping(patience=10, restore_best_weights=True),\n",
        "            keras.callbacks.LearningRateScheduler(lr_scheduler)\n",
        "            ]"
      ]
    },
    {
      "cell_type": "code",
      "execution_count": 14,
      "metadata": {
        "colab": {
          "base_uri": "https://localhost:8080/"
        },
        "id": "Gjk8p-v1T5er",
        "outputId": "d9c2d146-f569-4c53-b247-803d6303a895"
      },
      "outputs": [
        {
          "name": "stdout",
          "output_type": "stream",
          "text": [
            "(10, 1)\n"
          ]
        }
      ],
      "source": [
        "input_shape = x_train.shape[1:]\n",
        "print(input_shape)"
      ]
    },
    {
      "cell_type": "code",
      "execution_count": 15,
      "metadata": {
        "id": "x9RHlr6CT5er"
      },
      "outputs": [],
      "source": [
        "model = build_model(\n",
        "    input_shape,\n",
        "    head_size=46, # Embedding size for attention\n",
        "    num_heads=60, # Number of attention heads\n",
        "    ff_dim=55, # Hidden layer size in feed forward network inside transformer\n",
        "    num_transformer_blocks=5,\n",
        "    mlp_units=[256],\n",
        "    mlp_dropout=0.4,\n",
        "    dropout=0.14,\n",
        ")"
      ]
    },
    {
      "cell_type": "code",
      "execution_count": 16,
      "metadata": {
        "colab": {
          "base_uri": "https://localhost:8080/"
        },
        "id": "rtyanIiKT5er",
        "outputId": "cefe14c8-e7ca-4a01-8b2f-daac6eb0c31f"
      },
      "outputs": [
        {
          "name": "stdout",
          "output_type": "stream",
          "text": [
            "Epoch 1/100\n",
            "81/81 [==============================] - 27s 35ms/step - loss: 0.0059 - mean_squared_error: 0.0059 - val_loss: 0.0691 - val_mean_squared_error: 0.0691 - lr: 1.0000e-06\n",
            "Epoch 2/100\n",
            "81/81 [==============================] - 2s 28ms/step - loss: 0.0029 - mean_squared_error: 0.0029 - val_loss: 0.0117 - val_mean_squared_error: 0.0117 - lr: 3.4300e-05\n",
            "Epoch 3/100\n",
            "81/81 [==============================] - 2s 23ms/step - loss: 0.0013 - mean_squared_error: 0.0013 - val_loss: 9.7558e-04 - val_mean_squared_error: 9.7558e-04 - lr: 6.7600e-05\n",
            "Epoch 4/100\n",
            "81/81 [==============================] - 2s 22ms/step - loss: 8.4512e-04 - mean_squared_error: 8.4512e-04 - val_loss: 0.0014 - val_mean_squared_error: 0.0014 - lr: 1.0090e-04\n",
            "Epoch 5/100\n",
            "81/81 [==============================] - 2s 23ms/step - loss: 6.4113e-04 - mean_squared_error: 6.4113e-04 - val_loss: 7.4490e-04 - val_mean_squared_error: 7.4490e-04 - lr: 1.3420e-04\n",
            "Epoch 6/100\n",
            "81/81 [==============================] - 2s 23ms/step - loss: 5.3328e-04 - mean_squared_error: 5.3328e-04 - val_loss: 0.0022 - val_mean_squared_error: 0.0022 - lr: 1.6750e-04\n",
            "Epoch 7/100\n",
            "81/81 [==============================] - 2s 22ms/step - loss: 5.2938e-04 - mean_squared_error: 5.2938e-04 - val_loss: 9.6312e-04 - val_mean_squared_error: 9.6312e-04 - lr: 2.0080e-04\n",
            "Epoch 8/100\n",
            "81/81 [==============================] - 2s 30ms/step - loss: 6.2753e-04 - mean_squared_error: 6.2753e-04 - val_loss: 0.0039 - val_mean_squared_error: 0.0039 - lr: 2.3410e-04\n",
            "Epoch 9/100\n",
            "81/81 [==============================] - 2s 22ms/step - loss: 4.9633e-04 - mean_squared_error: 4.9633e-04 - val_loss: 6.7919e-04 - val_mean_squared_error: 6.7919e-04 - lr: 2.6740e-04\n",
            "Epoch 10/100\n",
            "81/81 [==============================] - 2s 22ms/step - loss: 4.3876e-04 - mean_squared_error: 4.3876e-04 - val_loss: 6.1849e-04 - val_mean_squared_error: 6.1849e-04 - lr: 3.0070e-04\n",
            "Epoch 11/100\n",
            "81/81 [==============================] - 3s 31ms/step - loss: 4.1268e-04 - mean_squared_error: 4.1268e-04 - val_loss: 7.4637e-04 - val_mean_squared_error: 7.4637e-04 - lr: 3.3400e-04\n",
            "Epoch 12/100\n",
            "81/81 [==============================] - 2s 23ms/step - loss: 4.1219e-04 - mean_squared_error: 4.1219e-04 - val_loss: 7.3137e-04 - val_mean_squared_error: 7.3137e-04 - lr: 3.6730e-04\n",
            "Epoch 13/100\n",
            "81/81 [==============================] - 2s 22ms/step - loss: 3.6174e-04 - mean_squared_error: 3.6174e-04 - val_loss: 0.0018 - val_mean_squared_error: 0.0018 - lr: 4.0060e-04\n",
            "Epoch 14/100\n",
            "81/81 [==============================] - 3s 31ms/step - loss: 3.3402e-04 - mean_squared_error: 3.3402e-04 - val_loss: 0.0011 - val_mean_squared_error: 0.0011 - lr: 4.3390e-04\n",
            "Epoch 15/100\n",
            "81/81 [==============================] - 2s 23ms/step - loss: 2.8046e-04 - mean_squared_error: 2.8046e-04 - val_loss: 4.9258e-04 - val_mean_squared_error: 4.9258e-04 - lr: 4.6720e-04\n",
            "Epoch 16/100\n",
            "81/81 [==============================] - 2s 23ms/step - loss: 2.8669e-04 - mean_squared_error: 2.8669e-04 - val_loss: 4.8207e-04 - val_mean_squared_error: 4.8207e-04 - lr: 5.0050e-04\n",
            "Epoch 17/100\n",
            "81/81 [==============================] - 2s 22ms/step - loss: 2.4710e-04 - mean_squared_error: 2.4710e-04 - val_loss: 8.7911e-04 - val_mean_squared_error: 8.7911e-04 - lr: 5.3380e-04\n",
            "Epoch 18/100\n",
            "81/81 [==============================] - 2s 22ms/step - loss: 2.2994e-04 - mean_squared_error: 2.2994e-04 - val_loss: 8.7306e-04 - val_mean_squared_error: 8.7306e-04 - lr: 5.6710e-04\n",
            "Epoch 19/100\n",
            "81/81 [==============================] - 2s 30ms/step - loss: 1.8593e-04 - mean_squared_error: 1.8593e-04 - val_loss: 6.2616e-04 - val_mean_squared_error: 6.2616e-04 - lr: 6.0040e-04\n",
            "Epoch 20/100\n",
            "81/81 [==============================] - 3s 32ms/step - loss: 1.7905e-04 - mean_squared_error: 1.7905e-04 - val_loss: 3.7119e-04 - val_mean_squared_error: 3.7119e-04 - lr: 6.3370e-04\n",
            "Epoch 21/100\n",
            "81/81 [==============================] - 2s 23ms/step - loss: 1.4648e-04 - mean_squared_error: 1.4648e-04 - val_loss: 8.9242e-04 - val_mean_squared_error: 8.9242e-04 - lr: 6.6700e-04\n",
            "Epoch 22/100\n",
            "81/81 [==============================] - 2s 23ms/step - loss: 1.5238e-04 - mean_squared_error: 1.5238e-04 - val_loss: 3.4212e-04 - val_mean_squared_error: 3.4212e-04 - lr: 7.0030e-04\n",
            "Epoch 23/100\n",
            "81/81 [==============================] - 2s 22ms/step - loss: 1.1524e-04 - mean_squared_error: 1.1524e-04 - val_loss: 0.0010 - val_mean_squared_error: 0.0010 - lr: 7.3360e-04\n",
            "Epoch 24/100\n",
            "81/81 [==============================] - 2s 22ms/step - loss: 1.1315e-04 - mean_squared_error: 1.1315e-04 - val_loss: 3.4441e-04 - val_mean_squared_error: 3.4441e-04 - lr: 7.6690e-04\n",
            "Epoch 25/100\n",
            "81/81 [==============================] - 2s 22ms/step - loss: 1.0476e-04 - mean_squared_error: 1.0476e-04 - val_loss: 4.1620e-04 - val_mean_squared_error: 4.1620e-04 - lr: 8.0020e-04\n",
            "Epoch 26/100\n",
            "81/81 [==============================] - 2s 28ms/step - loss: 9.4073e-05 - mean_squared_error: 9.4073e-05 - val_loss: 4.3478e-04 - val_mean_squared_error: 4.3478e-04 - lr: 8.3350e-04\n",
            "Epoch 27/100\n",
            "81/81 [==============================] - 2s 25ms/step - loss: 9.4476e-05 - mean_squared_error: 9.4476e-05 - val_loss: 3.1389e-04 - val_mean_squared_error: 3.1389e-04 - lr: 8.6680e-04\n",
            "Epoch 28/100\n",
            "81/81 [==============================] - 2s 22ms/step - loss: 8.2294e-05 - mean_squared_error: 8.2294e-05 - val_loss: 6.0175e-04 - val_mean_squared_error: 6.0175e-04 - lr: 9.0010e-04\n",
            "Epoch 29/100\n",
            "81/81 [==============================] - 2s 23ms/step - loss: 8.8907e-05 - mean_squared_error: 8.8907e-05 - val_loss: 3.0853e-04 - val_mean_squared_error: 3.0853e-04 - lr: 9.3340e-04\n",
            "Epoch 30/100\n",
            "81/81 [==============================] - 2s 22ms/step - loss: 7.9850e-05 - mean_squared_error: 7.9850e-05 - val_loss: 2.8703e-04 - val_mean_squared_error: 2.8703e-04 - lr: 9.6670e-04\n",
            "Epoch 31/100\n",
            "81/81 [==============================] - 2s 22ms/step - loss: 7.0903e-05 - mean_squared_error: 7.0903e-05 - val_loss: 3.3751e-04 - val_mean_squared_error: 3.3751e-04 - lr: 0.0010\n",
            "Epoch 32/100\n",
            "81/81 [==============================] - 3s 42ms/step - loss: 6.3435e-05 - mean_squared_error: 6.3435e-05 - val_loss: 2.3657e-04 - val_mean_squared_error: 2.3657e-04 - lr: 9.9050e-04\n",
            "Epoch 33/100\n",
            "81/81 [==============================] - 5s 61ms/step - loss: 6.1235e-05 - mean_squared_error: 6.1235e-05 - val_loss: 3.0725e-04 - val_mean_squared_error: 3.0725e-04 - lr: 9.8100e-04\n",
            "Epoch 34/100\n",
            "81/81 [==============================] - 2s 29ms/step - loss: 5.7121e-05 - mean_squared_error: 5.7121e-05 - val_loss: 2.3330e-04 - val_mean_squared_error: 2.3330e-04 - lr: 9.7150e-04\n",
            "Epoch 35/100\n",
            "81/81 [==============================] - 2s 22ms/step - loss: 5.1114e-05 - mean_squared_error: 5.1114e-05 - val_loss: 5.4224e-04 - val_mean_squared_error: 5.4224e-04 - lr: 9.6200e-04\n",
            "Epoch 36/100\n",
            "81/81 [==============================] - 3s 39ms/step - loss: 5.8938e-05 - mean_squared_error: 5.8938e-05 - val_loss: 2.3681e-04 - val_mean_squared_error: 2.3681e-04 - lr: 9.5250e-04\n",
            "Epoch 37/100\n",
            "81/81 [==============================] - 4s 45ms/step - loss: 5.2909e-05 - mean_squared_error: 5.2909e-05 - val_loss: 2.1831e-04 - val_mean_squared_error: 2.1831e-04 - lr: 9.4300e-04\n",
            "Epoch 38/100\n",
            "81/81 [==============================] - 2s 22ms/step - loss: 4.3841e-05 - mean_squared_error: 4.3841e-05 - val_loss: 2.6741e-04 - val_mean_squared_error: 2.6741e-04 - lr: 9.3350e-04\n",
            "Epoch 39/100\n",
            "81/81 [==============================] - 2s 22ms/step - loss: 4.5789e-05 - mean_squared_error: 4.5789e-05 - val_loss: 2.2002e-04 - val_mean_squared_error: 2.2002e-04 - lr: 9.2400e-04\n",
            "Epoch 40/100\n",
            "81/81 [==============================] - 2s 23ms/step - loss: 4.7822e-05 - mean_squared_error: 4.7822e-05 - val_loss: 3.3699e-04 - val_mean_squared_error: 3.3699e-04 - lr: 9.1450e-04\n",
            "Epoch 41/100\n",
            "81/81 [==============================] - 2s 23ms/step - loss: 4.2731e-05 - mean_squared_error: 4.2731e-05 - val_loss: 2.1037e-04 - val_mean_squared_error: 2.1037e-04 - lr: 9.0500e-04\n",
            "Epoch 42/100\n",
            "81/81 [==============================] - 3s 32ms/step - loss: 5.0677e-05 - mean_squared_error: 5.0677e-05 - val_loss: 2.2447e-04 - val_mean_squared_error: 2.2447e-04 - lr: 8.9550e-04\n",
            "Epoch 43/100\n",
            "81/81 [==============================] - 2s 23ms/step - loss: 4.3611e-05 - mean_squared_error: 4.3611e-05 - val_loss: 2.2987e-04 - val_mean_squared_error: 2.2987e-04 - lr: 8.8600e-04\n",
            "Epoch 44/100\n",
            "81/81 [==============================] - 2s 22ms/step - loss: 3.7775e-05 - mean_squared_error: 3.7775e-05 - val_loss: 2.0771e-04 - val_mean_squared_error: 2.0771e-04 - lr: 8.7650e-04\n",
            "Epoch 45/100\n",
            "81/81 [==============================] - 2s 22ms/step - loss: 4.0216e-05 - mean_squared_error: 4.0216e-05 - val_loss: 3.2135e-04 - val_mean_squared_error: 3.2135e-04 - lr: 8.6700e-04\n",
            "Epoch 46/100\n",
            "81/81 [==============================] - 2s 23ms/step - loss: 3.5775e-05 - mean_squared_error: 3.5775e-05 - val_loss: 1.9958e-04 - val_mean_squared_error: 1.9958e-04 - lr: 8.5750e-04\n",
            "Epoch 47/100\n",
            "81/81 [==============================] - 2s 22ms/step - loss: 4.0888e-05 - mean_squared_error: 4.0888e-05 - val_loss: 3.5172e-04 - val_mean_squared_error: 3.5172e-04 - lr: 8.4800e-04\n",
            "Epoch 48/100\n",
            "81/81 [==============================] - 2s 28ms/step - loss: 3.6245e-05 - mean_squared_error: 3.6245e-05 - val_loss: 3.1503e-04 - val_mean_squared_error: 3.1503e-04 - lr: 8.3850e-04\n",
            "Epoch 49/100\n",
            "81/81 [==============================] - 2s 27ms/step - loss: 3.7129e-05 - mean_squared_error: 3.7129e-05 - val_loss: 4.2667e-04 - val_mean_squared_error: 4.2667e-04 - lr: 8.2900e-04\n",
            "Epoch 50/100\n",
            "81/81 [==============================] - 2s 24ms/step - loss: 4.0484e-05 - mean_squared_error: 4.0484e-05 - val_loss: 2.1864e-04 - val_mean_squared_error: 2.1864e-04 - lr: 8.1950e-04\n",
            "Epoch 51/100\n",
            "81/81 [==============================] - 2s 24ms/step - loss: 3.9121e-05 - mean_squared_error: 3.9121e-05 - val_loss: 5.8888e-04 - val_mean_squared_error: 5.8888e-04 - lr: 8.1000e-04\n",
            "Epoch 52/100\n",
            "81/81 [==============================] - 2s 23ms/step - loss: 3.7868e-05 - mean_squared_error: 3.7868e-05 - val_loss: 2.6236e-04 - val_mean_squared_error: 2.6236e-04 - lr: 8.0050e-04\n",
            "Epoch 53/100\n",
            "81/81 [==============================] - 2s 23ms/step - loss: 3.9981e-05 - mean_squared_error: 3.9981e-05 - val_loss: 8.8842e-04 - val_mean_squared_error: 8.8842e-04 - lr: 7.9100e-04\n",
            "Epoch 54/100\n",
            "81/81 [==============================] - 2s 26ms/step - loss: 3.6286e-05 - mean_squared_error: 3.6286e-05 - val_loss: 7.2534e-04 - val_mean_squared_error: 7.2534e-04 - lr: 7.8150e-04\n",
            "Epoch 55/100\n",
            "81/81 [==============================] - 2s 27ms/step - loss: 3.4177e-05 - mean_squared_error: 3.4177e-05 - val_loss: 2.2643e-04 - val_mean_squared_error: 2.2643e-04 - lr: 7.7200e-04\n",
            "Epoch 56/100\n",
            "81/81 [==============================] - 2s 23ms/step - loss: 3.0676e-05 - mean_squared_error: 3.0676e-05 - val_loss: 1.9744e-04 - val_mean_squared_error: 1.9744e-04 - lr: 7.6250e-04\n",
            "Epoch 57/100\n",
            "81/81 [==============================] - 2s 22ms/step - loss: 3.2916e-05 - mean_squared_error: 3.2916e-05 - val_loss: 3.6318e-04 - val_mean_squared_error: 3.6318e-04 - lr: 7.5300e-04\n",
            "Epoch 58/100\n",
            "81/81 [==============================] - 2s 22ms/step - loss: 3.3524e-05 - mean_squared_error: 3.3524e-05 - val_loss: 3.3145e-04 - val_mean_squared_error: 3.3145e-04 - lr: 7.4350e-04\n",
            "Epoch 59/100\n",
            "81/81 [==============================] - 2s 22ms/step - loss: 3.3889e-05 - mean_squared_error: 3.3889e-05 - val_loss: 1.9393e-04 - val_mean_squared_error: 1.9393e-04 - lr: 7.3400e-04\n",
            "Epoch 60/100\n",
            "81/81 [==============================] - 2s 22ms/step - loss: 3.6360e-05 - mean_squared_error: 3.6360e-05 - val_loss: 4.4750e-04 - val_mean_squared_error: 4.4750e-04 - lr: 7.2450e-04\n",
            "Epoch 61/100\n",
            "81/81 [==============================] - 2s 30ms/step - loss: 3.1930e-05 - mean_squared_error: 3.1930e-05 - val_loss: 2.7876e-04 - val_mean_squared_error: 2.7876e-04 - lr: 7.1500e-04\n",
            "Epoch 62/100\n",
            "81/81 [==============================] - 2s 22ms/step - loss: 3.5600e-05 - mean_squared_error: 3.5600e-05 - val_loss: 2.3696e-04 - val_mean_squared_error: 2.3696e-04 - lr: 7.0550e-04\n",
            "Epoch 63/100\n",
            "81/81 [==============================] - 2s 21ms/step - loss: 3.1739e-05 - mean_squared_error: 3.1739e-05 - val_loss: 2.3475e-04 - val_mean_squared_error: 2.3475e-04 - lr: 6.9600e-04\n",
            "Epoch 64/100\n",
            "81/81 [==============================] - 2s 21ms/step - loss: 3.6396e-05 - mean_squared_error: 3.6396e-05 - val_loss: 3.7657e-04 - val_mean_squared_error: 3.7657e-04 - lr: 6.8650e-04\n",
            "Epoch 65/100\n",
            "81/81 [==============================] - 2s 22ms/step - loss: 3.4754e-05 - mean_squared_error: 3.4754e-05 - val_loss: 3.0519e-04 - val_mean_squared_error: 3.0519e-04 - lr: 6.7700e-04\n",
            "Epoch 66/100\n",
            "81/81 [==============================] - 2s 22ms/step - loss: 3.5592e-05 - mean_squared_error: 3.5592e-05 - val_loss: 2.8994e-04 - val_mean_squared_error: 2.8994e-04 - lr: 6.6750e-04\n",
            "Epoch 67/100\n",
            "81/81 [==============================] - 2s 26ms/step - loss: 3.5307e-05 - mean_squared_error: 3.5307e-05 - val_loss: 1.8619e-04 - val_mean_squared_error: 1.8619e-04 - lr: 6.5800e-04\n",
            "Epoch 68/100\n",
            "81/81 [==============================] - 2s 27ms/step - loss: 3.1416e-05 - mean_squared_error: 3.1416e-05 - val_loss: 1.9310e-04 - val_mean_squared_error: 1.9310e-04 - lr: 6.4850e-04\n",
            "Epoch 69/100\n",
            "81/81 [==============================] - 2s 22ms/step - loss: 3.3871e-05 - mean_squared_error: 3.3871e-05 - val_loss: 2.4990e-04 - val_mean_squared_error: 2.4990e-04 - lr: 6.3900e-04\n",
            "Epoch 70/100\n",
            "81/81 [==============================] - 2s 22ms/step - loss: 3.2681e-05 - mean_squared_error: 3.2681e-05 - val_loss: 1.8699e-04 - val_mean_squared_error: 1.8699e-04 - lr: 6.2950e-04\n",
            "Epoch 71/100\n",
            "81/81 [==============================] - 2s 22ms/step - loss: 3.2268e-05 - mean_squared_error: 3.2268e-05 - val_loss: 3.5318e-04 - val_mean_squared_error: 3.5318e-04 - lr: 6.2000e-04\n",
            "Epoch 72/100\n",
            "81/81 [==============================] - 2s 22ms/step - loss: 2.6978e-05 - mean_squared_error: 2.6978e-05 - val_loss: 2.0729e-04 - val_mean_squared_error: 2.0729e-04 - lr: 6.1050e-04\n",
            "Epoch 73/100\n",
            "81/81 [==============================] - 2s 23ms/step - loss: 3.1253e-05 - mean_squared_error: 3.1253e-05 - val_loss: 1.8899e-04 - val_mean_squared_error: 1.8899e-04 - lr: 6.0100e-04\n",
            "Epoch 74/100\n",
            "81/81 [==============================] - 2s 29ms/step - loss: 3.1343e-05 - mean_squared_error: 3.1343e-05 - val_loss: 1.8656e-04 - val_mean_squared_error: 1.8656e-04 - lr: 5.9150e-04\n",
            "Epoch 75/100\n",
            "81/81 [==============================] - 2s 23ms/step - loss: 3.0115e-05 - mean_squared_error: 3.0115e-05 - val_loss: 2.4462e-04 - val_mean_squared_error: 2.4462e-04 - lr: 5.8200e-04\n",
            "Epoch 76/100\n",
            "81/81 [==============================] - 2s 22ms/step - loss: 3.2440e-05 - mean_squared_error: 3.2440e-05 - val_loss: 3.7830e-04 - val_mean_squared_error: 3.7830e-04 - lr: 5.7250e-04\n",
            "Epoch 77/100\n",
            "81/81 [==============================] - 2s 25ms/step - loss: 3.0829e-05 - mean_squared_error: 3.0829e-05 - val_loss: 3.8840e-04 - val_mean_squared_error: 3.8840e-04 - lr: 5.6300e-04\n"
          ]
        }
      ],
      "source": [
        "\n",
        "model.compile(\n",
        "    loss=\"mean_squared_error\",\n",
        "    optimizer=keras.optimizers.Adam(learning_rate=1e-4),\n",
        "    metrics=[\"mean_squared_error\"],\n",
        ")\n",
        "#model.summary()\n",
        "\n",
        "\n",
        "history = model.fit(\n",
        "    x_train,\n",
        "    y_train,\n",
        "    validation_split=0.2,\n",
        "    epochs=100,\n",
        "    batch_size=20,\n",
        "    callbacks=callbacks,\n",
        ")"
      ]
    },
    {
      "cell_type": "markdown",
      "metadata": {
        "id": "xrZuTeWcVO6k"
      },
      "source": [
        "# Evaluate model"
      ]
    },
    {
      "cell_type": "code",
      "execution_count": 19,
      "metadata": {
        "colab": {
          "base_uri": "https://localhost:8080/"
        },
        "id": "7o7cPDR-VGjj",
        "outputId": "8342a987-6f44-4c7a-b5dd-5d590d6c948d"
      },
      "outputs": [
        {
          "name": "stdout",
          "output_type": "stream",
          "text": [
            "16/16 [==============================] - 1s 12ms/step\n"
          ]
        },
        {
          "data": {
            "text/plain": [
              "0.4014371352451704"
            ]
          },
          "execution_count": 19,
          "metadata": {},
          "output_type": "execute_result"
        }
      ],
      "source": [
        "predictions = model.predict(x_test)\n",
        "predictions = scaler.inverse_transform(predictions)\n",
        "rmse = np.sqrt(np.mean(predictions - y_test)**2)\n",
        "rmse"
      ]
    },
    {
      "cell_type": "code",
      "execution_count": 20,
      "metadata": {
        "colab": {
          "base_uri": "https://localhost:8080/",
          "height": 640
        },
        "id": "TwaQPr4uWJ6g",
        "outputId": "ccd92f08-ca02-47b3-b970-d66f17e9a60c"
      },
      "outputs": [
        {
          "name": "stderr",
          "output_type": "stream",
          "text": [
            "<ipython-input-20-16c375ac7934>:4: SettingWithCopyWarning: \n",
            "A value is trying to be set on a copy of a slice from a DataFrame.\n",
            "Try using .loc[row_indexer,col_indexer] = value instead\n",
            "\n",
            "See the caveats in the documentation: https://pandas.pydata.org/pandas-docs/stable/user_guide/indexing.html#returning-a-view-versus-a-copy\n",
            "  validation['Predictions'] = predictions\n"
          ]
        },
        {
          "data": {
            "image/png": "[encoded data removed]",
            "text/plain": [
              "<Figure size 1152x576 with 1 Axes>"
            ]
          },
          "metadata": {
            "needs_background": "light"
          },
          "output_type": "display_data"
        }
      ],
      "source": [
        "data = stock_data.filter(['close'])\n",
        "train = data[:training_data_len]\n",
        "validation = data[training_data_len:]\n",
        "validation['Predictions'] = predictions\n",
        "plt.figure(figsize=(16,8))\n",
        "plt.title('Model')\n",
        "plt.xlabel('Date')\n",
        "plt.ylabel('Close Price USD ($)')\n",
        "plt.plot(train)\n",
        "plt.plot(validation[['close', 'Predictions']])\n",
        "plt.legend(['Train', 'Val', 'Predictions'], loc='lower right')\n",
        "plt.show()"
      ]
    },
    {
      "cell_type": "code",
      "execution_count": 21,
      "metadata": {
        "colab": {
          "base_uri": "https://localhost:8080/",
          "height": 206
        },
        "id": "QOVbNaXyWvC8",
        "outputId": "7387a8c4-a49c-4a75-fe91-dd04f91c98e5"
      },
      "outputs": [
        {
          "data": {
            "text/html": [
              "\n",
              "  <div id=\"df-4f006200-6cbb-43fc-a7f0-54a87504d17e\">\n",
              "    <div class=\"colab-df-container\">\n",
              "      <div>\n",
              "<style scoped>\n",
              "    .dataframe tbody tr th:only-of-type {\n",
              "        vertical-align: middle;\n",
              "    }\n",
              "\n",
              "    .dataframe tbody tr th {\n",
              "        vertical-align: top;\n",
              "    }\n",
              "\n",
              "    .dataframe thead th {\n",
              "        text-align: right;\n",
              "    }\n",
              "</style>\n",
              "<table border=\"1\" class=\"dataframe\">\n",
              "  <thead>\n",
              "    <tr style=\"text-align: right;\">\n",
              "      <th></th>\n",
              "      <th>date</th>\n",
              "      <th>open</th>\n",
              "      <th>high</th>\n",
              "      <th>low</th>\n",
              "      <th>close</th>\n",
              "      <th>volume</th>\n",
              "    </tr>\n",
              "  </thead>\n",
              "  <tbody>\n",
              "    <tr>\n",
              "      <th>2512</th>\n",
              "      <td>2/22/2023</td>\n",
              "      <td>148.87</td>\n",
              "      <td>149.95</td>\n",
              "      <td>147.16</td>\n",
              "      <td>148.91</td>\n",
              "      <td>51011305</td>\n",
              "    </tr>\n",
              "    <tr>\n",
              "      <th>2513</th>\n",
              "      <td>2/23/2023</td>\n",
              "      <td>150.09</td>\n",
              "      <td>150.34</td>\n",
              "      <td>147.24</td>\n",
              "      <td>149.40</td>\n",
              "      <td>48394249</td>\n",
              "    </tr>\n",
              "    <tr>\n",
              "      <th>2514</th>\n",
              "      <td>2/24/2023</td>\n",
              "      <td>147.11</td>\n",
              "      <td>147.19</td>\n",
              "      <td>145.72</td>\n",
              "      <td>146.71</td>\n",
              "      <td>55469606</td>\n",
              "    </tr>\n",
              "    <tr>\n",
              "      <th>2515</th>\n",
              "      <td>2/27/2023</td>\n",
              "      <td>147.71</td>\n",
              "      <td>149.17</td>\n",
              "      <td>147.45</td>\n",
              "      <td>147.92</td>\n",
              "      <td>44998470</td>\n",
              "    </tr>\n",
              "    <tr>\n",
              "      <th>2516</th>\n",
              "      <td>2/28/2023</td>\n",
              "      <td>147.05</td>\n",
              "      <td>149.08</td>\n",
              "      <td>146.83</td>\n",
              "      <td>147.41</td>\n",
              "      <td>50546998</td>\n",
              "    </tr>\n",
              "  </tbody>\n",
              "</table>\n",
              "</div>\n",
              "      <button class=\"colab-df-convert\" onclick=\"convertToInteractive('df-4f006200-6cbb-43fc-a7f0-54a87504d17e')\"\n",
              "              title=\"Convert this dataframe to an interactive table.\"\n",
              "              style=\"display:none;\">\n",
              "        \n",
              "  <svg xmlns=\"http://www.w3.org/2000/svg\" height=\"24px\"viewBox=\"0 0 24 24\"\n",
              "       width=\"24px\">\n",
              "    <path d=\"M0 0h24v24H0V0z\" fill=\"none\"/>\n",
              "    <path d=\"M18.56 5.44l.94 2.06.94-2.06 2.06-.94-2.06-.94-.94-2.06-.94 2.06-2.06.94zm-11 1L8.5 8.5l.94-2.06 2.06-.94-2.06-.94L8.5 2.5l-.94 2.06-2.06.94zm10 10l.94 2.06.94-2.06 2.06-.94-2.06-.94-.94-2.06-.94 2.06-2.06.94z\"/><path d=\"M17.41 7.96l-1.37-1.37c-.4-.4-.92-.59-1.43-.59-.52 0-1.04.2-1.43.59L10.3 9.45l-7.72 7.72c-.78.78-.78 2.05 0 2.83L4 21.41c.39.39.9.59 1.41.59.51 0 1.02-.2 1.41-.59l7.78-7.78 2.81-2.81c.8-.78.8-2.07 0-2.86zM5.41 20L4 18.59l7.72-7.72 1.47 1.35L5.41 20z\"/>\n",
              "  </svg>\n",
              "      </button>\n",
              "      \n",
              "  <style>\n",
              "    .colab-df-container {\n",
              "      display:flex;\n",
              "      flex-wrap:wrap;\n",
              "      gap: 12px;\n",
              "    }\n",
              "\n",
              "    .colab-df-convert {\n",
              "      background-color: #E8F0FE;\n",
              "      border: none;\n",
              "      border-radius: 50%;\n",
              "      cursor: pointer;\n",
              "      display: none;\n",
              "      fill: #1967D2;\n",
              "      height: 32px;\n",
              "      padding: 0 0 0 0;\n",
              "      width: 32px;\n",
              "    }\n",
              "\n",
              "    .colab-df-convert:hover {\n",
              "      background-color: #E2EBFA;\n",
              "      box-shadow: 0px 1px 2px rgba(60, 64, 67, 0.3), 0px 1px 3px 1px rgba(60, 64, 67, 0.15);\n",
              "      fill: #174EA6;\n",
              "    }\n",
              "\n",
              "    [theme=dark] .colab-df-convert {\n",
              "      background-color: #3B4455;\n",
              "      fill: #D2E3FC;\n",
              "    }\n",
              "\n",
              "    [theme=dark] .colab-df-convert:hover {\n",
              "      background-color: #434B5C;\n",
              "      box-shadow: 0px 1px 3px 1px rgba(0, 0, 0, 0.15);\n",
              "      filter: drop-shadow(0px 1px 2px rgba(0, 0, 0, 0.3));\n",
              "      fill: #FFFFFF;\n",
              "    }\n",
              "  </style>\n",
              "\n",
              "      <script>\n",
              "        const buttonEl =\n",
              "          document.querySelector('#df-4f006200-6cbb-43fc-a7f0-54a87504d17e button.colab-df-convert');\n",
              "        buttonEl.style.display =\n",
              "          google.colab.kernel.accessAllowed ? 'block' : 'none';\n",
              "\n",
              "        async function convertToInteractive(key) {\n",
              "          const element = document.querySelector('#df-4f006200-6cbb-43fc-a7f0-54a87504d17e');\n",
              "          const dataTable =\n",
              "            await google.colab.kernel.invokeFunction('convertToInteractive',\n",
              "                                                     [key], {});\n",
              "          if (!dataTable) return;\n",
              "\n",
              "          const docLinkHtml = 'Like what you see? Visit the ' +\n",
              "            '<a target=\"_blank\" href=https://colab.research.google.com/notebooks/data_table.ipynb>data table notebook</a>'\n",
              "            + ' to learn more about interactive tables.';\n",
              "          element.innerHTML = '';\n",
              "          dataTable['output_type'] = 'display_data';\n",
              "          await google.colab.output.renderOutput(dataTable, element);\n",
              "          const docLink = document.createElement('div');\n",
              "          docLink.innerHTML = docLinkHtml;\n",
              "          element.appendChild(docLink);\n",
              "        }\n",
              "      </script>\n",
              "    </div>\n",
              "  </div>\n",
              "  "
            ],
            "text/plain": [
              "           date    open    high     low   close    volume\n",
              "2512  2/22/2023  148.87  149.95  147.16  148.91  51011305\n",
              "2513  2/23/2023  150.09  150.34  147.24  149.40  48394249\n",
              "2514  2/24/2023  147.11  147.19  145.72  146.71  55469606\n",
              "2515  2/27/2023  147.71  149.17  147.45  147.92  44998470\n",
              "2516  2/28/2023  147.05  149.08  146.83  147.41  50546998"
            ]
          },
          "execution_count": 21,
          "metadata": {},
          "output_type": "execute_result"
        }
      ],
      "source": [
        "stock_data.tail()"
      ]
    },
    {
      "cell_type": "code",
      "execution_count": 22,
      "metadata": {
        "colab": {
          "base_uri": "https://localhost:8080/",
          "height": 424
        },
        "id": "TsgeCLb4Wx4N",
        "outputId": "124755de-8ec9-4c1a-cd5b-9f7678d93601"
      },
      "outputs": [
        {
          "data": {
            "text/html": [
              "\n",
              "  <div id=\"df-c5741a59-b101-457c-a7ab-e3c8ea540d3f\">\n",
              "    <div class=\"colab-df-container\">\n",
              "      <div>\n",
              "<style scoped>\n",
              "    .dataframe tbody tr th:only-of-type {\n",
              "        vertical-align: middle;\n",
              "    }\n",
              "\n",
              "    .dataframe tbody tr th {\n",
              "        vertical-align: top;\n",
              "    }\n",
              "\n",
              "    .dataframe thead th {\n",
              "        text-align: right;\n",
              "    }\n",
              "</style>\n",
              "<table border=\"1\" class=\"dataframe\">\n",
              "  <thead>\n",
              "    <tr style=\"text-align: right;\">\n",
              "      <th></th>\n",
              "      <th>close</th>\n",
              "      <th>Predictions</th>\n",
              "    </tr>\n",
              "  </thead>\n",
              "  <tbody>\n",
              "    <tr>\n",
              "      <th>2014</th>\n",
              "      <td>125.12</td>\n",
              "      <td>126.043007</td>\n",
              "    </tr>\n",
              "    <tr>\n",
              "      <th>2015</th>\n",
              "      <td>122.06</td>\n",
              "      <td>125.283875</td>\n",
              "    </tr>\n",
              "    <tr>\n",
              "      <th>2016</th>\n",
              "      <td>120.13</td>\n",
              "      <td>123.046898</td>\n",
              "    </tr>\n",
              "    <tr>\n",
              "      <th>2017</th>\n",
              "      <td>121.42</td>\n",
              "      <td>120.953323</td>\n",
              "    </tr>\n",
              "    <tr>\n",
              "      <th>2018</th>\n",
              "      <td>116.36</td>\n",
              "      <td>121.180054</td>\n",
              "    </tr>\n",
              "    <tr>\n",
              "      <th>...</th>\n",
              "      <td>...</td>\n",
              "      <td>...</td>\n",
              "    </tr>\n",
              "    <tr>\n",
              "      <th>2512</th>\n",
              "      <td>148.91</td>\n",
              "      <td>149.526291</td>\n",
              "    </tr>\n",
              "    <tr>\n",
              "      <th>2513</th>\n",
              "      <td>149.40</td>\n",
              "      <td>148.971313</td>\n",
              "    </tr>\n",
              "    <tr>\n",
              "      <th>2514</th>\n",
              "      <td>146.71</td>\n",
              "      <td>148.870651</td>\n",
              "    </tr>\n",
              "    <tr>\n",
              "      <th>2515</th>\n",
              "      <td>147.92</td>\n",
              "      <td>147.061356</td>\n",
              "    </tr>\n",
              "    <tr>\n",
              "      <th>2516</th>\n",
              "      <td>147.41</td>\n",
              "      <td>147.206619</td>\n",
              "    </tr>\n",
              "  </tbody>\n",
              "</table>\n",
              "<p>503 rows × 2 columns</p>\n",
              "</div>\n",
              "      <button class=\"colab-df-convert\" onclick=\"convertToInteractive('df-c5741a59-b101-457c-a7ab-e3c8ea540d3f')\"\n",
              "              title=\"Convert this dataframe to an interactive table.\"\n",
              "              style=\"display:none;\">\n",
              "        \n",
              "  <svg xmlns=\"http://www.w3.org/2000/svg\" height=\"24px\"viewBox=\"0 0 24 24\"\n",
              "       width=\"24px\">\n",
              "    <path d=\"M0 0h24v24H0V0z\" fill=\"none\"/>\n",
              "    <path d=\"M18.56 5.44l.94 2.06.94-2.06 2.06-.94-2.06-.94-.94-2.06-.94 2.06-2.06.94zm-11 1L8.5 8.5l.94-2.06 2.06-.94-2.06-.94L8.5 2.5l-.94 2.06-2.06.94zm10 10l.94 2.06.94-2.06 2.06-.94-2.06-.94-.94-2.06-.94 2.06-2.06.94z\"/><path d=\"M17.41 7.96l-1.37-1.37c-.4-.4-.92-.59-1.43-.59-.52 0-1.04.2-1.43.59L10.3 9.45l-7.72 7.72c-.78.78-.78 2.05 0 2.83L4 21.41c.39.39.9.59 1.41.59.51 0 1.02-.2 1.41-.59l7.78-7.78 2.81-2.81c.8-.78.8-2.07 0-2.86zM5.41 20L4 18.59l7.72-7.72 1.47 1.35L5.41 20z\"/>\n",
              "  </svg>\n",
              "      </button>\n",
              "      \n",
              "  <style>\n",
              "    .colab-df-container {\n",
              "      display:flex;\n",
              "      flex-wrap:wrap;\n",
              "      gap: 12px;\n",
              "    }\n",
              "\n",
              "    .colab-df-convert {\n",
              "      background-color: #E8F0FE;\n",
              "      border: none;\n",
              "      border-radius: 50%;\n",
              "      cursor: pointer;\n",
              "      display: none;\n",
              "      fill: #1967D2;\n",
              "      height: 32px;\n",
              "      padding: 0 0 0 0;\n",
              "      width: 32px;\n",
              "    }\n",
              "\n",
              "    .colab-df-convert:hover {\n",
              "      background-color: #E2EBFA;\n",
              "      box-shadow: 0px 1px 2px rgba(60, 64, 67, 0.3), 0px 1px 3px 1px rgba(60, 64, 67, 0.15);\n",
              "      fill: #174EA6;\n",
              "    }\n",
              "\n",
              "    [theme=dark] .colab-df-convert {\n",
              "      background-color: #3B4455;\n",
              "      fill: #D2E3FC;\n",
              "    }\n",
              "\n",
              "    [theme=dark] .colab-df-convert:hover {\n",
              "      background-color: #434B5C;\n",
              "      box-shadow: 0px 1px 3px 1px rgba(0, 0, 0, 0.15);\n",
              "      filter: drop-shadow(0px 1px 2px rgba(0, 0, 0, 0.3));\n",
              "      fill: #FFFFFF;\n",
              "    }\n",
              "  </style>\n",
              "\n",
              "      <script>\n",
              "        const buttonEl =\n",
              "          document.querySelector('#df-c5741a59-b101-457c-a7ab-e3c8ea540d3f button.colab-df-convert');\n",
              "        buttonEl.style.display =\n",
              "          google.colab.kernel.accessAllowed ? 'block' : 'none';\n",
              "\n",
              "        async function convertToInteractive(key) {\n",
              "          const element = document.querySelector('#df-c5741a59-b101-457c-a7ab-e3c8ea540d3f');\n",
              "          const dataTable =\n",
              "            await google.colab.kernel.invokeFunction('convertToInteractive',\n",
              "                                                     [key], {});\n",
              "          if (!dataTable) return;\n",
              "\n",
              "          const docLinkHtml = 'Like what you see? Visit the ' +\n",
              "            '<a target=\"_blank\" href=https://colab.research.google.com/notebooks/data_table.ipynb>data table notebook</a>'\n",
              "            + ' to learn more about interactive tables.';\n",
              "          element.innerHTML = '';\n",
              "          dataTable['output_type'] = 'display_data';\n",
              "          await google.colab.output.renderOutput(dataTable, element);\n",
              "          const docLink = document.createElement('div');\n",
              "          docLink.innerHTML = docLinkHtml;\n",
              "          element.appendChild(docLink);\n",
              "        }\n",
              "      </script>\n",
              "    </div>\n",
              "  </div>\n",
              "  "
            ],
            "text/plain": [
              "       close  Predictions\n",
              "2014  125.12   126.043007\n",
              "2015  122.06   125.283875\n",
              "2016  120.13   123.046898\n",
              "2017  121.42   120.953323\n",
              "2018  116.36   121.180054\n",
              "...      ...          ...\n",
              "2512  148.91   149.526291\n",
              "2513  149.40   148.971313\n",
              "2514  146.71   148.870651\n",
              "2515  147.92   147.061356\n",
              "2516  147.41   147.206619\n",
              "\n",
              "[503 rows x 2 columns]"
            ]
          },
          "execution_count": 22,
          "metadata": {},
          "output_type": "execute_result"
        }
      ],
      "source": [
        "validation"
      ]
    },
    {
      "cell_type": "code",
      "execution_count": null,
      "metadata": {
        "id": "tKuHKdI2WznD"
      },
      "outputs": [],
      "source": []
    }
  ],
  "metadata": {
    "accelerator": "GPU",
    "colab": {
      "provenance": []
    },
    "gpuClass": "standard",
    "kernelspec": {
      "display_name": "Python 3.8.12 ('tf2')",
      "language": "python",
      "name": "python3"
    },
    "language_info": {
      "codemirror_mode": {
        "name": "ipython",
        "version": 3
      },
      "file_extension": ".py",
      "mimetype": "text/x-python",
      "name": "python",
      "nbconvert_exporter": "python",
      "pygments_lexer": "ipython3",
      "version": "3.8.12"
    },
    "orig_nbformat": 4,
    "vscode": {
      "interpreter": {
        "hash": "d4b8c2c3dcda12b88a1de234d9dc100e2200b96fd567ceed47d2fbc5f06223af"
      }
    }
  },
  "nbformat": 4,
  "nbformat_minor": 0
}
